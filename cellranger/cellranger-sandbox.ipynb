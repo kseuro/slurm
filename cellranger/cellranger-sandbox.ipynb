{
 "cells": [
  {
   "cell_type": "code",
   "execution_count": null,
   "id": "2eccb318-d7ae-493e-a6a2-95d0ab01d99a",
   "metadata": {},
   "outputs": [],
   "source": [
    "import os\n",
    "import glob\n",
    "import canine\n",
    "import pandas as pd"
   ]
  },
  {
   "cell_type": "code",
   "execution_count": null,
   "id": "a7b2276d-ce06-4430-93e7-bc62cfde46f0",
   "metadata": {},
   "outputs": [],
   "source": [
    "!ls"
   ]
  },
  {
   "cell_type": "code",
   "execution_count": null,
   "id": "bdd9d85f-f115-4196-b9c8-23444e896a70",
   "metadata": {},
   "outputs": [],
   "source": [
    "data_set = \"July2021_set\"\n",
    "root = \"/home/kstewart\"    # Top level directory\n",
    "proj = f\"/data/{data_set}\" # Project directory\n",
    "out = f\"{root}/runs\"       # Output directory\n",
    "sheet = f\"gs://brca-gray/data/{data_set}/sample_sheet.July2021.barcoded.csv\" # Sample sheet\n",
    "chrom = \"gs://brca-gray/data/Nov12_set/chromium-shared-sample-indexes-plate.csv\" # Chromium protocol"
   ]
  },
  {
   "cell_type": "code",
   "execution_count": null,
   "id": "c08cfa1e-7302-4b3d-86df-e0364fc2c4c1",
   "metadata": {},
   "outputs": [],
   "source": [
    "# Set the output directory\n",
    "outDir=f\"{out}/July2021_set\""
   ]
  },
  {
   "cell_type": "code",
   "execution_count": null,
   "id": "4b59a614-f836-4039-a0d2-c3e9632c5f6c",
   "metadata": {},
   "outputs": [],
   "source": [
    "# Set the FastQ Directory\n",
    "# fastQs=[f\"{root}{proj}/fastqs\"]\n",
    "fastQs = f\"{root}/{proj}/fastqs\""
   ]
  },
  {
   "cell_type": "code",
   "execution_count": null,
   "id": "9738d1b6-390e-447d-bc80-5a3db470cbb9",
   "metadata": {},
   "outputs": [],
   "source": [
    "# Set the Genome Reference\n",
    "hgRef=f\"{root}/ref/refdata-cellranger-GRCh38-3.0.0\""
   ]
  },
  {
   "cell_type": "code",
   "execution_count": null,
   "id": "c23363c4-1c31-451f-8551-38887d52d2d4",
   "metadata": {},
   "outputs": [],
   "source": [
    "# Load the sample sheet\n",
    "S=pd.read_csv(sheet)\n",
    "if \"Unnamed: 0\" in S.columns:\n",
    "    S = pd.read_csv(sheet, index_col=[0])\n",
    "S"
   ]
  },
  {
   "cell_type": "code",
   "execution_count": null,
   "id": "167a6356-441b-4f90-a8a8-e31ed5bd47bf",
   "metadata": {},
   "outputs": [],
   "source": [
    "# Load the Chromium protocol sample indexes file\n",
    "B=pd.read_csv(chrom, header=None)\n",
    "B=B.rename(columns={0:'barcode'}).melt(id_vars='barcode',var_name='barcode_no',value_name='barcode_sequence')\n",
    "B"
   ]
  },
  {
   "cell_type": "code",
   "execution_count": null,
   "id": "a7c60523-da18-4b28-a911-429137c9d272",
   "metadata": {},
   "outputs": [],
   "source": [
    "B[B['barcode'].str.contains('SI-GA-B7')]"
   ]
  },
  {
   "cell_type": "code",
   "execution_count": null,
   "id": "acac55b7-aee6-4b76-8f30-e9d70e6bea85",
   "metadata": {
    "tags": []
   },
   "outputs": [],
   "source": [
    "# lst = ['.pdf', '.sh', 'Undet']\n",
    "# lst = '\\t'.join(lst)\n",
    "# sample_names = list()\n",
    "# fastq_file_names = list()\n",
    "# paths = list()\n",
    "# for sample in os.listdir('data/July2021_set/fastqs'):\n",
    "#     if any(x in sample for x in lst):\n",
    "#         continue\n",
    "#     sample_names.append(sample)\n",
    "#     folder = os.path.join('data/July2021_set/fastqs', sample)\n",
    "#     for file in os.listdir(folder):\n",
    "#         if '.txt' in file:\n",
    "#             continue\n",
    "#         elif '.gz' in file:\n",
    "#             path = os.path.join(f'data/July2021_set/fastqs/{sample}', file)\n",
    "#             paths.append(path)\n",
    "#             fastq_file_names.append(file)\n",
    "\n",
    "# for idx, f in enumerate(fastq_file_names):\n",
    "#     if idx < 5:\n",
    "#         print(f)"
   ]
  },
  {
   "cell_type": "code",
   "execution_count": null,
   "id": "2f6df2e1-53d6-4d52-97c7-7a97381fde8b",
   "metadata": {},
   "outputs": [],
   "source": [
    "# Create a DF where the sampleIDs are sorted by their corresponding barcode sequence\n",
    "L = pd.Series(glob.glob(fastQs + '/*.fastq.gz'))\n",
    "groups = ['(x\\d+\\w_)', '(x\\w+_\\d_)']\n",
    "subs = list()\n",
    "for group in groups:\n",
    "    extract = f'{group}(CKD.*)(_[HGKJKCCX2]+)'\n",
    "    sub = L.str.extract(extract ,expand=True)\n",
    "    sub = sub.drop_duplicates().dropna()\n",
    "    subs.append(sub)\n",
    "L = pd.concat(subs)\n",
    "L[0] = L[0] + L[1] + L[2] # Create sample ID from substrings\n",
    "L[1] = L[1].str.extract('(SI.*)')\n",
    "L = L.drop(2, axis=1)\n",
    "L.columns = ['sampleID', 'barcode']\n",
    "L['barcode'] = L['barcode'].str.replace('_', '-')\n",
    "L"
   ]
  },
  {
   "cell_type": "code",
   "execution_count": null,
   "id": "947f3ea0-98e7-49e1-9031-267cf0b63714",
   "metadata": {},
   "outputs": [],
   "source": [
    "L = pd.merge(L, B, on='barcode', how='left')\n",
    "L"
   ]
  },
  {
   "cell_type": "code",
   "execution_count": null,
   "id": "a8b6aad9-527e-4101-9021-9669697a34d8",
   "metadata": {},
   "outputs": [],
   "source": [
    "L.loc[:, \"Index\"] = L['barcode'].str.replace(\"SI-GA-\", '')\n",
    "L"
   ]
  },
  {
   "cell_type": "code",
   "execution_count": null,
   "id": "4de4fd8a-86f6-4bd6-93e2-2bfac78c59ba",
   "metadata": {},
   "outputs": [],
   "source": [
    "L = L.drop('barcode_no', axis=1)\n",
    "L"
   ]
  },
  {
   "cell_type": "code",
   "execution_count": null,
   "id": "808ac575-dc07-4093-b14a-07d6e3e86953",
   "metadata": {},
   "outputs": [],
   "source": [
    "L = L.groupby('Index').agg(\" \".join).reset_index()"
   ]
  },
  {
   "cell_type": "code",
   "execution_count": null,
   "id": "94a686d6-8e6c-4683-b7f6-9d14181dd227",
   "metadata": {},
   "outputs": [],
   "source": [
    "# Merge sample sheet with sorted barcodes\n",
    "G = pd.merge(S, L, how='right', on='Index')\n",
    "G"
   ]
  },
  {
   "cell_type": "code",
   "execution_count": null,
   "id": "43eefa0f-7907-4402-863a-4796233b4084",
   "metadata": {},
   "outputs": [],
   "source": [
    "cellranger_cmd = 'cellranger count --id=${id} ' \\\n",
    "               + '--transcriptome=${ref} ' \\\n",
    "               + '--fastqs=${fastQs} ' \\\n",
    "               + '--sample=${sample} ' \\\n",
    "               + '--expect-cells=${expect} ' \\\n",
    "               + '--nosecondary ' \\\n",
    "               + '--localcores=${nthread}'"
   ]
  },
  {
   "cell_type": "code",
   "execution_count": null,
   "id": "03f2ea71-5aba-4ed5-b90b-3b2f377f4409",
   "metadata": {},
   "outputs": [],
   "source": [
    "# Write the Canine .yaml\n",
    "canine_conf = {'retry'        : 0,\n",
    "\t       'name'         : 'cellranger',\n",
    "\t       'inputs'       : {'fastQs'  : fastQs,\n",
    "\t                         'ref'     : hgRef,\n",
    "\t                         'id'      : list(G['patient']),\n",
    "\t                         'sample'  : list(G['sampleID'].str.replace(' ',',')),\n",
    "\t                         'expect'  : list(G['Target cell recovery']),\n",
    "\t                         'nthread' : 16},\n",
    "\t       'script'       : ['rm -f */_lock', cellranger_cmd],\n",
    "\t       'localization' : {'strategy'    :'NFS',\n",
    "\t                         'staging_dir' : outDir},\n",
    "               'resources'   : {'mem':'100G','cpus-per-task':16,'nodes':1}\n",
    "               }"
   ]
  },
  {
   "cell_type": "code",
   "execution_count": null,
   "id": "1e3cddee-1fcf-4fe0-96d2-90bb7173982d",
   "metadata": {},
   "outputs": [],
   "source": [
    "canine_conf"
   ]
  },
  {
   "cell_type": "code",
   "execution_count": null,
   "id": "f129f3e1-88b3-4040-b0d0-396db4c41251",
   "metadata": {},
   "outputs": [],
   "source": []
  }
 ],
 "metadata": {
  "kernelspec": {
   "display_name": "Python [conda env:jupyter] *",
   "language": "python",
   "name": "conda-env-jupyter-py"
  },
  "language_info": {
   "codemirror_mode": {
    "name": "ipython",
    "version": 3
   },
   "file_extension": ".py",
   "mimetype": "text/x-python",
   "name": "python",
   "nbconvert_exporter": "python",
   "pygments_lexer": "ipython3",
   "version": "3.8.5"
  }
 },
 "nbformat": 4,
 "nbformat_minor": 5
}
